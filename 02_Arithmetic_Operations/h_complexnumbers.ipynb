{
 "cells": [
  {
   "cell_type": "markdown",
   "metadata": {},
   "source": [
    "Complex Numbers\n",
    "Complex Number = Real Number +/- Imaginary Number\n",
    "\n",
    "In python, 'j' is used to represent the imaginary number."
   ]
  },
  {
   "cell_type": "code",
   "execution_count": null,
   "metadata": {},
   "outputs": [],
   "source": []
  }
 ],
 "metadata": {
  "language_info": {
   "name": "python"
  }
 },
 "nbformat": 4,
 "nbformat_minor": 2
}
