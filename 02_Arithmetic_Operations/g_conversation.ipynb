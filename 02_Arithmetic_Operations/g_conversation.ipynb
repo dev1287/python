{
 "cells": [
  {
   "cell_type": "markdown",
   "metadata": {},
   "source": [
    "Purpose: Data Type Conversions - int, float, complex, boolean, string, None\n",
    "\n",
    "    int - decimal       - int() -base 10  (0-9)\n",
    "        - binary        - bin() -base  2  (0-1)\n",
    "        - hexadecimal   - hex()\n",
    "        - octal         - oct()\n",
    "    floatm\n",
    "        float()\n",
    "    String\n",
    "        str()\n",
    "\n",
    "\n",
    "int -> float int -> str\n",
    "\n",
    "float -> int float -> str\n",
    "\n",
    "str -> int str -> float \"\"\""
   ]
  },
  {
   "cell_type": "code",
   "execution_count": null,
   "metadata": {},
   "outputs": [],
   "source": []
  }
 ],
 "metadata": {
  "kernelspec": {
   "display_name": "Python 3",
   "language": "python",
   "name": "python3"
  },
  "language_info": {
   "codemirror_mode": {
    "name": "ipython",
    "version": 3
   },
   "file_extension": ".py",
   "mimetype": "text/x-python",
   "name": "python",
   "nbconvert_exporter": "python",
   "pygments_lexer": "ipython3",
   "version": "3.10.13"
  }
 },
 "nbformat": 4,
 "nbformat_minor": 2
}
