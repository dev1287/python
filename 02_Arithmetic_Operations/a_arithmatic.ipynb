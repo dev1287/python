{
 "cells": [
  {
   "cell_type": "markdown",
   "metadata": {},
   "source": [
    "## Arithmetic Operations\n",
    "Integer Family\n",
    "    - int\n",
    "    - long -> only in python 2.x\n",
    "    - float\n",
    "\n",
    "    - complex\n",
    "    - bool"
   ]
  },
  {
   "cell_type": "code",
   "execution_count": 2,
   "metadata": {},
   "outputs": [],
   "source": [
    "# = assignment operator\n",
    "\n",
    "num1 = 100\n",
    "num2 = 200"
   ]
  },
  {
   "cell_type": "code",
   "execution_count": 3,
   "metadata": {},
   "outputs": [],
   "source": [
    "num3 = num2\n"
   ]
  },
  {
   "cell_type": "code",
   "execution_count": 5,
   "metadata": {},
   "outputs": [
    {
     "name": "stdout",
     "output_type": "stream",
     "text": [
      "num1 = 100 <class 'int'>\n",
      "num2 = 200 <class 'int'>\n",
      "num3 = 200 <class 'int'>\n"
     ]
    }
   ],
   "source": [
    "print(\"num1 =\", num1, type(num1))\n",
    "print(\"num2 =\", num2, type(num2))\n",
    "print(\"num3 =\", num3, type(num3))"
   ]
  }
 ],
 "metadata": {
  "kernelspec": {
   "display_name": "Python 3",
   "language": "python",
   "name": "python3"
  },
  "language_info": {
   "codemirror_mode": {
    "name": "ipython",
    "version": 3
   },
   "file_extension": ".py",
   "mimetype": "text/x-python",
   "name": "python",
   "nbconvert_exporter": "python",
   "pygments_lexer": "ipython3",
   "version": "3.10.13"
  }
 },
 "nbformat": 4,
 "nbformat_minor": 2
}
