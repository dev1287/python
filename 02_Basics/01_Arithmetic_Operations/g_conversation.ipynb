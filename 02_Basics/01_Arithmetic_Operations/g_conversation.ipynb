{
 "cells": [
  {
   "cell_type": "markdown",
   "metadata": {},
   "source": [
    "Purpose: Data Type Conversions - int, float, complex, boolean, string, None\n",
    "\n",
    "    int - decimal       - int() -base 10  (0-9)\n",
    "        - binary        - bin() -base  2  (0-1)\n",
    "        - hexadecimal   - hex()\n",
    "        - octal         - oct()\n",
    "    floatm\n",
    "        float()\n",
    "    String\n",
    "        str()\n",
    "\n",
    "\n",
    "int -> float int -> str\n",
    "\n",
    "float -> int float -> str\n",
    "\n",
    "str -> int str -> float \"\"\""
   ]
  },
  {
   "cell_type": "code",
   "execution_count": 1,
   "metadata": {},
   "outputs": [
    {
     "name": "stdout",
     "output_type": "stream",
     "text": [
      "num= 12 <class 'int'>\n"
     ]
    }
   ],
   "source": [
    "num = 12\n",
    "print(\"num=\", num, type(num))"
   ]
  },
  {
   "cell_type": "code",
   "execution_count": 2,
   "metadata": {},
   "outputs": [
    {
     "name": "stdout",
     "output_type": "stream",
     "text": [
      "12 12.0\n"
     ]
    }
   ],
   "source": [
    "# int -> float\n",
    "print(12, float(12))  # 12 12.0"
   ]
  },
  {
   "cell_type": "code",
   "execution_count": 3,
   "metadata": {},
   "outputs": [
    {
     "name": "stdout",
     "output_type": "stream",
     "text": [
      "12 12\n"
     ]
    }
   ],
   "source": [
    "# int -> str\n",
    "print(12, str(12))  # 12 '12'"
   ]
  },
  {
   "cell_type": "code",
   "execution_count": 4,
   "metadata": {},
   "outputs": [
    {
     "name": "stdout",
     "output_type": "stream",
     "text": [
      "3.1416 3\n",
      "3.1416 3.1416\n"
     ]
    }
   ],
   "source": [
    "# float -> int\n",
    "print(3.1416, int(3.1416))  # 3.1416,  3\n",
    "print(3.1416, str(3.1416))  # 3.1416, '3.1416'"
   ]
  },
  {
   "cell_type": "code",
   "execution_count": 5,
   "metadata": {},
   "outputs": [
    {
     "name": "stdout",
     "output_type": "stream",
     "text": [
      "23 23\n",
      "23  23\n"
     ]
    }
   ],
   "source": [
    "# str  -> int\n",
    "print(\"23\", int(\"23\"))  # '23 ', 23\n",
    "print(\"23 \", int(\"23 \"))  # '23 ', 23"
   ]
  },
  {
   "cell_type": "code",
   "execution_count": 6,
   "metadata": {},
   "outputs": [
    {
     "ename": "ValueError",
     "evalue": "invalid literal for int() with base 10: '2 3'",
     "output_type": "error",
     "traceback": [
      "\u001b[0;31m---------------------------------------------------------------------------\u001b[0m",
      "\u001b[0;31mValueError\u001b[0m                                Traceback (most recent call last)",
      "Cell \u001b[0;32mIn[6], line 1\u001b[0m\n\u001b[0;32m----> 1\u001b[0m \u001b[38;5;28mprint\u001b[39m(\u001b[38;5;124m'\u001b[39m\u001b[38;5;124m2 3\u001b[39m\u001b[38;5;124m'\u001b[39m, \u001b[38;5;28;43mint\u001b[39;49m\u001b[43m(\u001b[49m\u001b[38;5;124;43m'\u001b[39;49m\u001b[38;5;124;43m2 3\u001b[39;49m\u001b[38;5;124;43m'\u001b[39;49m\u001b[43m)\u001b[49m)\n",
      "\u001b[0;31mValueError\u001b[0m: invalid literal for int() with base 10: '2 3'"
     ]
    }
   ],
   "source": [
    "print('2 3', int('2 3'))\n"
   ]
  },
  {
   "cell_type": "code",
   "execution_count": 7,
   "metadata": {},
   "outputs": [
    {
     "ename": "ValueError",
     "evalue": "invalid literal for int() with base 10: 'two'",
     "output_type": "error",
     "traceback": [
      "\u001b[0;31m---------------------------------------------------------------------------\u001b[0m",
      "\u001b[0;31mValueError\u001b[0m                                Traceback (most recent call last)",
      "Cell \u001b[0;32mIn[7], line 1\u001b[0m\n\u001b[0;32m----> 1\u001b[0m \u001b[38;5;28mprint\u001b[39m(\u001b[38;5;124m'\u001b[39m\u001b[38;5;124mtwo\u001b[39m\u001b[38;5;124m'\u001b[39m, \u001b[38;5;28;43mint\u001b[39;49m\u001b[43m(\u001b[49m\u001b[38;5;124;43m'\u001b[39;49m\u001b[38;5;124;43mtwo\u001b[39;49m\u001b[38;5;124;43m'\u001b[39;49m\u001b[43m)\u001b[49m)\n",
      "\u001b[0;31mValueError\u001b[0m: invalid literal for int() with base 10: 'two'"
     ]
    }
   ],
   "source": [
    "print('two', int('two'))\n"
   ]
  },
  {
   "cell_type": "code",
   "execution_count": 8,
   "metadata": {},
   "outputs": [
    {
     "name": "stdout",
     "output_type": "stream",
     "text": [
      "23    23.0\n",
      "23.24 23.24\n",
      "23.   23.0\n"
     ]
    }
   ],
   "source": [
    "# str -> float\n",
    "print(\"23   \", float(\"23\"))  # '23   ', 23.0\n",
    "print(\"23.24\", float(\"23.24\"))  # '23.24', 23.24\n",
    "print(\"23.  \", float(\"23.\"))  # '23.  ', 23.0"
   ]
  },
  {
   "cell_type": "code",
   "execution_count": 9,
   "metadata": {},
   "outputs": [
    {
     "name": "stdout",
     "output_type": "stream",
     "text": [
      "23    23.0\n"
     ]
    }
   ],
   "source": [
    "print(\"23   \", float(\"23  \"))  # '23   ', 23.0\n"
   ]
  },
  {
   "cell_type": "code",
   "execution_count": 10,
   "metadata": {},
   "outputs": [
    {
     "data": {
      "text/plain": [
       "-inf"
      ]
     },
     "execution_count": 10,
     "metadata": {},
     "output_type": "execute_result"
    }
   ],
   "source": [
    "float()                 # 0.0\n",
    "float(\"+1.23\")          # 1.23\n",
    "float(\"   -12345\\n\")    # -12345.0\n",
    "float(\"1e-003\")         # 0.001\n",
    "float(\"+1E6\")           # 1000000.0\n",
    "float(\"-Infinity\")      # -inf"
   ]
  },
  {
   "cell_type": "code",
   "execution_count": 11,
   "metadata": {},
   "outputs": [
    {
     "data": {
      "text/plain": [
       "inf"
      ]
     },
     "execution_count": 11,
     "metadata": {},
     "output_type": "execute_result"
    }
   ],
   "source": [
    "float(\"+Infinity\")      # +inf\n"
   ]
  },
  {
   "cell_type": "code",
   "execution_count": 12,
   "metadata": {},
   "outputs": [
    {
     "data": {
      "text/plain": [
       "-inf"
      ]
     },
     "execution_count": 12,
     "metadata": {},
     "output_type": "execute_result"
    }
   ],
   "source": [
    "float(\"-inf\")      # -inf\n"
   ]
  },
  {
   "cell_type": "code",
   "execution_count": 13,
   "metadata": {},
   "outputs": [
    {
     "name": "stdout",
     "output_type": "stream",
     "text": [
      "str(12)           12\n",
      "str(121233.12323) 121233.12323\n",
      "str(-0.000012)    -1.2e-05\n",
      "str(True)         True\n",
      "str(None)         None\n"
     ]
    }
   ],
   "source": [
    "# NOTE: Anything can be converted to str; but not vice versa\n",
    "print(\"str(12)          \", str(12))\n",
    "print(\"str(121233.12323)\", str(121233.12323))\n",
    "print(\"str(-0.000012)   \", str(-0.000012))\n",
    "print(\"str(True)        \", str(True))\n",
    "print(\"str(None)        \", str(None))"
   ]
  },
  {
   "cell_type": "code",
   "execution_count": 14,
   "metadata": {},
   "outputs": [
    {
     "name": "stdout",
     "output_type": "stream",
     "text": [
      "num1 = 33 <class 'int'>\n"
     ]
    }
   ],
   "source": [
    "num1 = 33\n",
    "print(\"num1 =\", num1, type(num1))  # -> Decimal form"
   ]
  },
  {
   "cell_type": "code",
   "execution_count": 15,
   "metadata": {},
   "outputs": [
    {
     "data": {
      "text/plain": [
       "'0b10111'"
      ]
     },
     "execution_count": 15,
     "metadata": {},
     "output_type": "execute_result"
    }
   ],
   "source": [
    "bin(int(23.3))\n"
   ]
  },
  {
   "cell_type": "code",
   "execution_count": 16,
   "metadata": {},
   "outputs": [
    {
     "name": "stdout",
     "output_type": "stream",
     "text": [
      "0b1001 9\n",
      "1001   1001\n",
      "bin(9) 9\n"
     ]
    }
   ],
   "source": [
    "# binary -> decimal form\n",
    "print(\"0b1001\", int(\"0b1001\", base=0))  # 9\n",
    "print(\"1001  \", int(\"1001\", base=0))  # 1001\n",
    "print(\"bin(9)\", int(bin(9), base=0))  # 9"
   ]
  },
  {
   "cell_type": "code",
   "execution_count": 17,
   "metadata": {},
   "outputs": [
    {
     "name": "stdout",
     "output_type": "stream",
     "text": [
      "4\n",
      "5\n"
     ]
    }
   ],
   "source": [
    "print((9).bit_length())   # 4 <- '0b1001'\n",
    "print((23).bit_length())  # 5 <- '0b10111'"
   ]
  },
  {
   "cell_type": "code",
   "execution_count": 18,
   "metadata": {},
   "outputs": [
    {
     "name": "stdout",
     "output_type": "stream",
     "text": [
      "9\n",
      "9\n",
      "9\n",
      "11\n"
     ]
    }
   ],
   "source": [
    "print(int(oct(9), base=8))  # 9\n",
    "print(int(\"0o11\", base=8))  # 9\n",
    "print(int(\"11\", base=8))  # 9\n",
    "print(int(\"11\"))  # 11"
   ]
  },
  {
   "cell_type": "code",
   "execution_count": 19,
   "metadata": {},
   "outputs": [
    {
     "name": "stdout",
     "output_type": "stream",
     "text": [
      "hex(9)   0x9\n",
      "hex(-23) -0x17\n",
      "-23\n",
      "-23\n",
      "-23\n",
      "-17\n"
     ]
    }
   ],
   "source": [
    "# Hexadecimal - 0-9 A-F\n",
    "# decimal -> hexadecimal\n",
    "print(\"hex(9)  \", hex(9))       # '0x9'\n",
    "print(\"hex(-23)\", hex(-23))     # '-0x17'\n",
    "\n",
    "# hexadecimal -> decimal\n",
    "print(int(hex(-23), base=16))   # -23\n",
    "print(int(\"-0x17\", base=16))    # -23\n",
    "print(int(\"-17\", base=16))      # -23\n",
    "print(int(\"-17\"))               # -17"
   ]
  },
  {
   "cell_type": "code",
   "execution_count": 20,
   "metadata": {},
   "outputs": [
    {
     "data": {
      "text/plain": [
       "'0o12'"
      ]
     },
     "execution_count": 20,
     "metadata": {},
     "output_type": "execute_result"
    }
   ],
   "source": [
    "\"%#o\" % 10"
   ]
  },
  {
   "cell_type": "code",
   "execution_count": null,
   "metadata": {},
   "outputs": [],
   "source": [
    "input_string = input(\"Enter any string:\")"
   ]
  }
 ],
 "metadata": {
  "kernelspec": {
   "display_name": "Python 3",
   "language": "python",
   "name": "python3"
  },
  "language_info": {
   "codemirror_mode": {
    "name": "ipython",
    "version": 3
   },
   "file_extension": ".py",
   "mimetype": "text/x-python",
   "name": "python",
   "nbconvert_exporter": "python",
   "pygments_lexer": "ipython3",
   "version": "3.10.13"
  }
 },
 "nbformat": 4,
 "nbformat_minor": 2
}
