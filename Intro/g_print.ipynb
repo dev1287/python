{
 "cells": [
  {
   "cell_type": "code",
   "execution_count": null,
   "metadata": {},
   "outputs": [
    {
     "name": "stdout",
     "output_type": "stream",
     "text": [
      "Hello World\n"
     ]
    }
   ],
   "source": [
    "print(\"Hello World\")"
   ]
  },
  {
   "cell_type": "code",
   "execution_count": null,
   "metadata": {},
   "outputs": [
    {
     "data": {
      "text/plain": [
       "'\\nhello this text in doc string\\n'"
      ]
     },
     "execution_count": 2,
     "metadata": {},
     "output_type": "execute_result"
    }
   ],
   "source": [
    "\"\"\"\n",
    "hello this text in doc string\n",
    "\"\"\""
   ]
  },
  {
   "cell_type": "code",
   "execution_count": null,
   "metadata": {},
   "outputs": [
    {
     "data": {
      "text/plain": [
       "'mobile'"
      ]
     },
     "execution_count": 4,
     "metadata": {},
     "output_type": "execute_result"
    }
   ],
   "source": [
    "name = \"mobile\" #str\n",
    "name"
   ]
  },
  {
   "cell_type": "code",
   "execution_count": null,
   "metadata": {},
   "outputs": [
    {
     "name": "stdout",
     "output_type": "stream",
     "text": [
      "mobile\n"
     ]
    }
   ],
   "source": [
    "print(name)"
   ]
  },
  {
   "cell_type": "code",
   "execution_count": null,
   "metadata": {},
   "outputs": [
    {
     "name": "stdout",
     "output_type": "stream",
     "text": [
      "name\n",
      "mobile\n"
     ]
    }
   ],
   "source": [
    "print(\"name\")\n",
    "print(name)"
   ]
  },
  {
   "cell_type": "code",
   "execution_count": 3,
   "metadata": {},
   "outputs": [
    {
     "name": "stdout",
     "output_type": "stream",
     "text": [
      "1 2 3 4 5 6\n",
      "1_2_3_4_5_6\n",
      "1-2-3-4-5-6\n",
      "10203040506\n",
      "1A2A3A4A5A6\n",
      "1a2a3a4a5a6\n"
     ]
    }
   ],
   "source": [
    "print(1,2,3,4,5,6, sep=\" \")\n",
    "print(1,2,3,4,5,6, sep=\"_\" )\n",
    "print(1,2,3,4,5,6, sep=\"-\")\n",
    "print(1,2,3,4,5,6, sep=\"0\")\n",
    "print(1,2,3,4,5,6, sep=\"A\")\n",
    "print(1,2,3,4,5,6, sep=\"a\")\n"
   ]
  },
  {
   "cell_type": "code",
   "execution_count": null,
   "metadata": {},
   "outputs": [],
   "source": []
  },
  {
   "cell_type": "code",
   "execution_count": 9,
   "metadata": {},
   "outputs": [
    {
     "name": "stdout",
     "output_type": "stream",
     "text": [
      "hello  rag\n",
      "hello rag\n",
      "hellorag\n",
      "hello rag\n"
     ]
    }
   ],
   "source": [
    "name = \"rag\"\n",
    "print(\"hello \", name)\n",
    "print(\"hello\", name)\n",
    "print(\"hello\" +name)\n",
    "print(\"hello\", name)"
   ]
  },
  {
   "cell_type": "code",
   "execution_count": 10,
   "metadata": {},
   "outputs": [
    {
     "name": "stdout",
     "output_type": "stream",
     "text": [
      "hello  1234\n",
      "hello 1234\n"
     ]
    },
    {
     "ename": "TypeError",
     "evalue": "can only concatenate str (not \"int\") to str",
     "output_type": "error",
     "traceback": [
      "\u001b[0;31m---------------------------------------------------------------------------\u001b[0m",
      "\u001b[0;31mTypeError\u001b[0m                                 Traceback (most recent call last)",
      "Cell \u001b[0;32mIn[10], line 4\u001b[0m\n\u001b[1;32m      2\u001b[0m \u001b[38;5;28mprint\u001b[39m(\u001b[38;5;124m\"\u001b[39m\u001b[38;5;124mhello \u001b[39m\u001b[38;5;124m\"\u001b[39m, name)\n\u001b[1;32m      3\u001b[0m \u001b[38;5;28mprint\u001b[39m(\u001b[38;5;124m\"\u001b[39m\u001b[38;5;124mhello\u001b[39m\u001b[38;5;124m\"\u001b[39m, name)\n\u001b[0;32m----> 4\u001b[0m \u001b[38;5;28mprint\u001b[39m(\u001b[38;5;124;43m\"\u001b[39;49m\u001b[38;5;124;43mhello\u001b[39;49m\u001b[38;5;124;43m\"\u001b[39;49m\u001b[43m \u001b[49m\u001b[38;5;241;43m+\u001b[39;49m\u001b[43mname\u001b[49m)\n\u001b[1;32m      5\u001b[0m \u001b[38;5;28mprint\u001b[39m(\u001b[38;5;124m\"\u001b[39m\u001b[38;5;124mhello\u001b[39m\u001b[38;5;124m\"\u001b[39m, name)\n",
      "\u001b[0;31mTypeError\u001b[0m: can only concatenate str (not \"int\") to str"
     ]
    }
   ],
   "source": [
    "name = 1234\n",
    "print(\"hello \", name)\n",
    "print(\"hello\", name)\n",
    "print(\"hello\" +name)\n",
    "print(\"hello\", name)"
   ]
  },
  {
   "cell_type": "code",
   "execution_count": 11,
   "metadata": {},
   "outputs": [
    {
     "name": "stdout",
     "output_type": "stream",
     "text": [
      "1+2 = 3\n",
      "'1'+'2' = 12\n"
     ]
    }
   ],
   "source": [
    "print(\"1+2 =\", 1+2)\n",
    "print(\"'1'+'2' =\", \"1\"+\"2\")"
   ]
  },
  {
   "cell_type": "code",
   "execution_count": 16,
   "metadata": {},
   "outputs": [
    {
     "name": "stdout",
     "output_type": "stream",
     "text": [
      "1+2 = 3\n",
      "'1'+'2' = 12\n"
     ]
    }
   ],
   "source": [
    "print(\"1+2 =\", 1+int(2))\n",
    "print(\"'1'+'2' =\", str(1) + \"2\")"
   ]
  },
  {
   "cell_type": "markdown",
   "metadata": {},
   "source": [
    "Escapes Sequences\n",
    "\n",
    "- characters whose presence is felt, but they were not printed\n",
    "    \\t - tab space\n",
    "    \\n - new line\n",
    "    \\b - overwrites previous character\n",
    "\n",
    "r'' - raw string"
   ]
  },
  {
   "cell_type": "code",
   "execution_count": 23,
   "metadata": {},
   "outputs": [
    {
     "name": "stdout",
     "output_type": "stream",
     "text": [
      "Hello how are you\n",
      "Hello \thow \tare \tyou\n",
      "Hello \n",
      "how \n",
      "are \n",
      "you\n",
      "Hellhowareyou\n"
     ]
    }
   ],
   "source": [
    "print(\"Hello how are you\")\n",
    "print(\"Hello \\thow \\tare \\tyou\")\n",
    "print(\"Hello \\nhow \\nare \\nyou\")\n",
    "print(\"Hello\\bhow \\bare \\byou\")\n"
   ]
  },
  {
   "cell_type": "code",
   "execution_count": 27,
   "metadata": {},
   "outputs": [
    {
     "name": "stdout",
     "output_type": "stream",
     "text": [
      "Hello \n",
      "how \n",
      "are \n",
      "you\n",
      "Hello\\bhow \\bare \\byou\n",
      "Hello \\thow \\tare \\nyou\n"
     ]
    }
   ],
   "source": [
    "print(\"Hello \\nhow \\nare \\nyou\")\n",
    "print(\"Hello\\\\bhow \\\\bare \\\\byou\")\n",
    "print(r\"Hello \\thow \\tare \\nyou\")"
   ]
  },
  {
   "cell_type": "code",
   "execution_count": 26,
   "metadata": {},
   "outputs": [
    {
     "name": "stdout",
     "output_type": "stream",
     "text": [
      "hello \\tworld \\npython\n"
     ]
    }
   ],
   "source": [
    "print(r\"hello \\tworld \\npython\")"
   ]
  },
  {
   "cell_type": "code",
   "execution_count": 29,
   "metadata": {},
   "outputs": [
    {
     "name": "stdout",
     "output_type": "stream",
     "text": [
      "C:\\my\\newfolder\n",
      "C:\\my\n",
      "ewfolder\n",
      "C:\\my\\newfolder\n"
     ]
    }
   ],
   "source": [
    "print(\"C:\\\\my\\\\newfolder\") #here it goes to folder\n",
    "print(\"C:\\my\\newfolder\") #here it taken /n is removed\n",
    "print(r\"C:\\my\\newfolder\")"
   ]
  },
  {
   "cell_type": "code",
   "execution_count": 30,
   "metadata": {},
   "outputs": [
    {
     "name": "stdout",
     "output_type": "stream",
     "text": [
      "hello___world\n"
     ]
    }
   ],
   "source": [
    "print(\"hello\", end=\"___\")\n",
    "print(\"world\")  # default end='\\n'"
   ]
  },
  {
   "cell_type": "code",
   "execution_count": 32,
   "metadata": {},
   "outputs": [
    {
     "name": "stdout",
     "output_type": "stream",
     "text": [
      "hello world\n"
     ]
    }
   ],
   "source": [
    "print(\"hello\", end=\" \")\n",
    "print(\"world\")  # default end='\\n'"
   ]
  },
  {
   "cell_type": "code",
   "execution_count": 36,
   "metadata": {},
   "outputs": [
    {
     "name": "stdout",
     "output_type": "stream",
     "text": [
      "hello python 12132\tworld\n"
     ]
    }
   ],
   "source": [
    "print(\"hello\", \"python\", 12132, end=\"\\t\")  # default sep= ' '\n",
    "print(\"world\")  # default end='\\n'"
   ]
  },
  {
   "cell_type": "code",
   "execution_count": 37,
   "metadata": {},
   "outputs": [
    {
     "name": "stdout",
     "output_type": "stream",
     "text": [
      "hello;python;12132\tworld\n"
     ]
    }
   ],
   "source": [
    "print(\"hello\", \"python\", 12132, end=\"\\t\", sep=\";\")\n",
    "print(\"world\")  # default end='\\n'"
   ]
  },
  {
   "cell_type": "code",
   "execution_count": 38,
   "metadata": {},
   "outputs": [
    {
     "name": "stdout",
     "output_type": "stream",
     "text": [
      "1;2;3;4;5\ta-b-c-d\n"
     ]
    }
   ],
   "source": [
    "print(1, 2, 3, 4, 5, sep=\";\", end=\"\\t\")\n",
    "print(\"a\", \"b\", \"c\", \"d\", sep=\"-\")  # default end='\\n'"
   ]
  },
  {
   "cell_type": "code",
   "execution_count": 39,
   "metadata": {},
   "outputs": [
    {
     "name": "stdout",
     "output_type": "stream",
     "text": [
      "Hei\n",
      "Hi\n",
      "H\n"
     ]
    }
   ],
   "source": [
    "print(\"Hei\")\n",
    "print(\"He\\bi\")\n",
    "print(\"He\\b\")"
   ]
  },
  {
   "cell_type": "code",
   "execution_count": 40,
   "metadata": {},
   "outputs": [
    {
     "name": "stdout",
     "output_type": "stream",
     "text": [
      "ie\n",
      "34\n",
      "second\n",
      "1234ef\n",
      "DOG4567\n"
     ]
    }
   ],
   "source": [
    "# \\r - overwrites complete existing line\n",
    "print(\"He\\ri\")\n",
    "print(\"12\\r34\")\n",
    "print(\"first\\rsecond\")\n",
    "print(\"abcdef\\r1234\")\n",
    "print(\"1234567\\rDOG\")"
   ]
  },
  {
   "cell_type": "code",
   "execution_count": 41,
   "metadata": {},
   "outputs": [
    {
     "name": "stdout",
     "output_type": "stream",
     "text": [
      "₹\n",
      "Ǝ\n",
      "&\n"
     ]
    }
   ],
   "source": [
    "print(\"\\u20B9\")  # ₹\n",
    "print(\"\\u018e\")  # Ǝ\n",
    "\n",
    "print(\"\\046\")  # &"
   ]
  },
  {
   "cell_type": "code",
   "execution_count": 42,
   "metadata": {},
   "outputs": [
    {
     "name": "stdout",
     "output_type": "stream",
     "text": [
      "$\n",
      "ñ\n"
     ]
    }
   ],
   "source": [
    "print(\"\\x24\")\n",
    "print(\"\\xf1\")"
   ]
  },
  {
   "cell_type": "code",
   "execution_count": 43,
   "metadata": {},
   "outputs": [
    {
     "name": "stdout",
     "output_type": "stream",
     "text": [
      "\\o24\n",
      "\u0011\n"
     ]
    }
   ],
   "source": [
    "print(\"\\o24\")\n",
    "print(\"\\021\")"
   ]
  },
  {
   "cell_type": "code",
   "execution_count": 44,
   "metadata": {},
   "outputs": [
    {
     "name": "stdout",
     "output_type": "stream",
     "text": [
      "#$%*&^(*;\n"
     ]
    }
   ],
   "source": [
    "print(\"#$%*&^(*;\")"
   ]
  }
 ],
 "metadata": {
  "kernelspec": {
   "display_name": "Python 3",
   "language": "python",
   "name": "python3"
  },
  "language_info": {
   "codemirror_mode": {
    "name": "ipython",
    "version": 3
   },
   "file_extension": ".py",
   "mimetype": "text/x-python",
   "name": "python",
   "nbconvert_exporter": "python",
   "pygments_lexer": "ipython3",
   "version": "3.10.13"
  }
 },
 "nbformat": 4,
 "nbformat_minor": 2
}
